{
 "cells": [
  {
   "cell_type": "code",
   "execution_count": 1,
   "metadata": {},
   "outputs": [
    {
     "name": "stdout",
     "output_type": "stream",
     "text": [
      "Pycaret: 2.3.10\n"
     ]
    }
   ],
   "source": [
    "import pycaret\n",
    "print('Pycaret: %s' % pycaret.__version__)"
   ]
  },
  {
   "cell_type": "code",
   "execution_count": 2,
   "metadata": {},
   "outputs": [
    {
     "name": "stdout",
     "output_type": "stream",
     "text": [
      "(208, 61)\n"
     ]
    }
   ],
   "source": [
    "# load the sonar dataset\n",
    "from pandas import read_csv\n",
    "# define the location of the dataset\n",
    "url = 'https://raw.githubusercontent.com/jbrownlee/Datasets/master/sonar.csv'\n",
    "# load the dataset\n",
    "df = read_csv(url, header=None)\n",
    "# summarize the shape of the dataset\n",
    "print(df.shape)\n"
   ]
  },
  {
   "cell_type": "code",
   "execution_count": 3,
   "metadata": {},
   "outputs": [
    {
     "name": "stdout",
     "output_type": "stream",
     "text": [
      "        0       1       2       3       4       5       6       7       8  \\\n",
      "0  0.0200  0.0371  0.0428  0.0207  0.0954  0.0986  0.1539  0.1601  0.3109   \n",
      "1  0.0453  0.0523  0.0843  0.0689  0.1183  0.2583  0.2156  0.3481  0.3337   \n",
      "2  0.0262  0.0582  0.1099  0.1083  0.0974  0.2280  0.2431  0.3771  0.5598   \n",
      "3  0.0100  0.0171  0.0623  0.0205  0.0205  0.0368  0.1098  0.1276  0.0598   \n",
      "4  0.0762  0.0666  0.0481  0.0394  0.0590  0.0649  0.1209  0.2467  0.3564   \n",
      "\n",
      "        9  ...      51      52      53      54      55      56      57  \\\n",
      "0  0.2111  ...  0.0027  0.0065  0.0159  0.0072  0.0167  0.0180  0.0084   \n",
      "1  0.2872  ...  0.0084  0.0089  0.0048  0.0094  0.0191  0.0140  0.0049   \n",
      "2  0.6194  ...  0.0232  0.0166  0.0095  0.0180  0.0244  0.0316  0.0164   \n",
      "3  0.1264  ...  0.0121  0.0036  0.0150  0.0085  0.0073  0.0050  0.0044   \n",
      "4  0.4459  ...  0.0031  0.0054  0.0105  0.0110  0.0015  0.0072  0.0048   \n",
      "\n",
      "       58      59  60  \n",
      "0  0.0090  0.0032   R  \n",
      "1  0.0052  0.0044   R  \n",
      "2  0.0095  0.0078   R  \n",
      "3  0.0040  0.0117   R  \n",
      "4  0.0107  0.0094   R  \n",
      "\n",
      "[5 rows x 61 columns]\n"
     ]
    }
   ],
   "source": [
    "# set column names as the column number\n",
    "n_cols = df.shape[1]\n",
    "df.columns = [str(i) for i in range(n_cols)]\n",
    "# summarize the first few rows of data\n",
    "print(df.head())"
   ]
  },
  {
   "cell_type": "code",
   "execution_count": 4,
   "metadata": {},
   "outputs": [],
   "source": [
    "from pycaret.classification import setup\n",
    "from pycaret.classification import compare_models\n",
    "\n",
    "# setup the dataset\n",
    "grid = setup(data=df, target=df.columns[-1], html=False, silent=True, verbose=False)\n",
    "# evaluate models and compare models\n",
    "#best = compare_models()\n",
    "# report the best model\n",
    "#print(best)"
   ]
  },
  {
   "cell_type": "code",
   "execution_count": 5,
   "metadata": {},
   "outputs": [
    {
     "name": "stdout",
     "output_type": "stream",
     "text": [
      "Fitting 10 folds for each of 200 candidates, totalling 2000 fits\n"
     ]
    },
    {
     "name": "stderr",
     "output_type": "stream",
     "text": [
      "[Parallel(n_jobs=-1)]: Using backend SequentialBackend with 1 concurrent workers.\n",
      "[Parallel(n_jobs=-1)]: Done 2000 out of 2000 | elapsed: 11.1min finished\n"
     ]
    },
    {
     "data": {
      "text/html": [
       "<div>\n",
       "<style scoped>\n",
       "    .dataframe tbody tr th:only-of-type {\n",
       "        vertical-align: middle;\n",
       "    }\n",
       "\n",
       "    .dataframe tbody tr th {\n",
       "        vertical-align: top;\n",
       "    }\n",
       "\n",
       "    .dataframe thead th {\n",
       "        text-align: right;\n",
       "    }\n",
       "</style>\n",
       "<table border=\"1\" class=\"dataframe\">\n",
       "  <thead>\n",
       "    <tr style=\"text-align: right;\">\n",
       "      <th></th>\n",
       "      <th>Accuracy</th>\n",
       "      <th>AUC</th>\n",
       "      <th>Recall</th>\n",
       "      <th>Prec.</th>\n",
       "      <th>F1</th>\n",
       "      <th>Kappa</th>\n",
       "      <th>MCC</th>\n",
       "    </tr>\n",
       "    <tr>\n",
       "      <th>Fold</th>\n",
       "      <th></th>\n",
       "      <th></th>\n",
       "      <th></th>\n",
       "      <th></th>\n",
       "      <th></th>\n",
       "      <th></th>\n",
       "      <th></th>\n",
       "    </tr>\n",
       "  </thead>\n",
       "  <tbody>\n",
       "    <tr>\n",
       "      <th>0</th>\n",
       "      <td>0.5333</td>\n",
       "      <td>0.7500</td>\n",
       "      <td>0.2857</td>\n",
       "      <td>0.5000</td>\n",
       "      <td>0.3636</td>\n",
       "      <td>0.0367</td>\n",
       "      <td>0.0403</td>\n",
       "    </tr>\n",
       "    <tr>\n",
       "      <th>1</th>\n",
       "      <td>0.8000</td>\n",
       "      <td>0.8929</td>\n",
       "      <td>0.7143</td>\n",
       "      <td>0.8333</td>\n",
       "      <td>0.7692</td>\n",
       "      <td>0.5946</td>\n",
       "      <td>0.6001</td>\n",
       "    </tr>\n",
       "    <tr>\n",
       "      <th>2</th>\n",
       "      <td>1.0000</td>\n",
       "      <td>1.0000</td>\n",
       "      <td>1.0000</td>\n",
       "      <td>1.0000</td>\n",
       "      <td>1.0000</td>\n",
       "      <td>1.0000</td>\n",
       "      <td>1.0000</td>\n",
       "    </tr>\n",
       "    <tr>\n",
       "      <th>3</th>\n",
       "      <td>1.0000</td>\n",
       "      <td>1.0000</td>\n",
       "      <td>1.0000</td>\n",
       "      <td>1.0000</td>\n",
       "      <td>1.0000</td>\n",
       "      <td>1.0000</td>\n",
       "      <td>1.0000</td>\n",
       "    </tr>\n",
       "    <tr>\n",
       "      <th>4</th>\n",
       "      <td>0.7333</td>\n",
       "      <td>0.7857</td>\n",
       "      <td>0.7143</td>\n",
       "      <td>0.7143</td>\n",
       "      <td>0.7143</td>\n",
       "      <td>0.4643</td>\n",
       "      <td>0.4643</td>\n",
       "    </tr>\n",
       "    <tr>\n",
       "      <th>5</th>\n",
       "      <td>0.9286</td>\n",
       "      <td>0.9592</td>\n",
       "      <td>1.0000</td>\n",
       "      <td>0.8750</td>\n",
       "      <td>0.9333</td>\n",
       "      <td>0.8571</td>\n",
       "      <td>0.8660</td>\n",
       "    </tr>\n",
       "    <tr>\n",
       "      <th>6</th>\n",
       "      <td>0.8571</td>\n",
       "      <td>0.9388</td>\n",
       "      <td>0.8571</td>\n",
       "      <td>0.8571</td>\n",
       "      <td>0.8571</td>\n",
       "      <td>0.7143</td>\n",
       "      <td>0.7143</td>\n",
       "    </tr>\n",
       "    <tr>\n",
       "      <th>7</th>\n",
       "      <td>0.5714</td>\n",
       "      <td>0.7959</td>\n",
       "      <td>0.4286</td>\n",
       "      <td>0.6000</td>\n",
       "      <td>0.5000</td>\n",
       "      <td>0.1429</td>\n",
       "      <td>0.1491</td>\n",
       "    </tr>\n",
       "    <tr>\n",
       "      <th>8</th>\n",
       "      <td>0.8571</td>\n",
       "      <td>0.9796</td>\n",
       "      <td>1.0000</td>\n",
       "      <td>0.7778</td>\n",
       "      <td>0.8750</td>\n",
       "      <td>0.7143</td>\n",
       "      <td>0.7454</td>\n",
       "    </tr>\n",
       "    <tr>\n",
       "      <th>9</th>\n",
       "      <td>0.9286</td>\n",
       "      <td>0.9796</td>\n",
       "      <td>0.8571</td>\n",
       "      <td>1.0000</td>\n",
       "      <td>0.9231</td>\n",
       "      <td>0.8571</td>\n",
       "      <td>0.8660</td>\n",
       "    </tr>\n",
       "    <tr>\n",
       "      <th>Mean</th>\n",
       "      <td>0.8210</td>\n",
       "      <td>0.9082</td>\n",
       "      <td>0.7857</td>\n",
       "      <td>0.8158</td>\n",
       "      <td>0.7936</td>\n",
       "      <td>0.6381</td>\n",
       "      <td>0.6445</td>\n",
       "    </tr>\n",
       "    <tr>\n",
       "      <th>Std</th>\n",
       "      <td>0.1559</td>\n",
       "      <td>0.0914</td>\n",
       "      <td>0.2412</td>\n",
       "      <td>0.1629</td>\n",
       "      <td>0.2025</td>\n",
       "      <td>0.3176</td>\n",
       "      <td>0.3179</td>\n",
       "    </tr>\n",
       "  </tbody>\n",
       "</table>\n",
       "</div>"
      ],
      "text/plain": [
       "      Accuracy     AUC  Recall   Prec.      F1   Kappa     MCC\n",
       "Fold                                                          \n",
       "0       0.5333  0.7500  0.2857  0.5000  0.3636  0.0367  0.0403\n",
       "1       0.8000  0.8929  0.7143  0.8333  0.7692  0.5946  0.6001\n",
       "2       1.0000  1.0000  1.0000  1.0000  1.0000  1.0000  1.0000\n",
       "3       1.0000  1.0000  1.0000  1.0000  1.0000  1.0000  1.0000\n",
       "4       0.7333  0.7857  0.7143  0.7143  0.7143  0.4643  0.4643\n",
       "5       0.9286  0.9592  1.0000  0.8750  0.9333  0.8571  0.8660\n",
       "6       0.8571  0.9388  0.8571  0.8571  0.8571  0.7143  0.7143\n",
       "7       0.5714  0.7959  0.4286  0.6000  0.5000  0.1429  0.1491\n",
       "8       0.8571  0.9796  1.0000  0.7778  0.8750  0.7143  0.7454\n",
       "9       0.9286  0.9796  0.8571  1.0000  0.9231  0.8571  0.8660\n",
       "Mean    0.8210  0.9082  0.7857  0.8158  0.7936  0.6381  0.6445\n",
       "Std     0.1559  0.0914  0.2412  0.1629  0.2025  0.3176  0.3179"
      ]
     },
     "metadata": {},
     "output_type": "display_data"
    },
    {
     "name": "stdout",
     "output_type": "stream",
     "text": [
      "ExtraTreesClassifier(bootstrap=False, ccp_alpha=0.0, class_weight={},\n",
      "                     criterion='entropy', max_depth=6, max_features=1.0,\n",
      "                     max_leaf_nodes=None, max_samples=None,\n",
      "                     min_impurity_decrease=0.001, min_impurity_split=None,\n",
      "                     min_samples_leaf=4, min_samples_split=2,\n",
      "                     min_weight_fraction_leaf=0.0, n_estimators=120,\n",
      "                     n_jobs=None, oob_score=False, random_state=None, verbose=0,\n",
      "                     warm_start=False)\n"
     ]
    }
   ],
   "source": [
    "from sklearn.ensemble import ExtraTreesClassifier\n",
    "from pycaret.classification import tune_model\n",
    "\n",
    "# tune model hyperparameters\n",
    "best = tune_model(ExtraTreesClassifier(), n_iter=200, choose_better=True)\n",
    "# report the best model\n",
    "print(best)"
   ]
  }
 ],
 "metadata": {
  "kernelspec": {
   "display_name": "Python 3.9.12 64-bit ('venv-first-3.9.12')",
   "language": "python",
   "name": "python3"
  },
  "language_info": {
   "codemirror_mode": {
    "name": "ipython",
    "version": 3
   },
   "file_extension": ".py",
   "mimetype": "text/x-python",
   "name": "python",
   "nbconvert_exporter": "python",
   "pygments_lexer": "ipython3",
   "version": "3.9.12"
  },
  "orig_nbformat": 4,
  "vscode": {
   "interpreter": {
    "hash": "95b26ae496a22731b12e963c981c3e7a4c1808047af3313c648e762f5a52c933"
   }
  }
 },
 "nbformat": 4,
 "nbformat_minor": 2
}
